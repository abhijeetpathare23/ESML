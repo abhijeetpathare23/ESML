{
  "nbformat": 4,
  "nbformat_minor": 0,
  "metadata": {
    "colab": {
      "provenance": []
    },
    "kernelspec": {
      "name": "python3",
      "display_name": "Python 3"
    },
    "language_info": {
      "name": "python"
    }
  },
  "cells": [
    {
      "cell_type": "code",
      "execution_count": null,
      "metadata": {
        "colab": {
          "base_uri": "https://localhost:8080/"
        },
        "id": "EgcOl_RSjd4e",
        "outputId": "d54143ab-6c70-494a-a5e9-6a0f805f28d3"
      },
      "outputs": [
        {
          "output_type": "stream",
          "name": "stdout",
          "text": [
            "Drive already mounted at /content/drive; to attempt to forcibly remount, call drive.mount(\"/content/drive\", force_remount=True).\n",
            "Dataset URL: https://www.kaggle.com/datasets/aryashah2k/indian-medicinal-leaves-dataset\n",
            "License(s): CC-BY-NC-SA-4.0\n",
            "Downloading indian-medicinal-leaves-dataset.zip to /content/drive/My Drive\n",
            "100% 9.00G/9.00G [02:16<00:00, 94.8MB/s]\n",
            "100% 9.00G/9.00G [02:16<00:00, 70.6MB/s]\n"
          ]
        }
      ],
      "source": [
        "import os\n",
        "from google.colab import drive\n",
        "drive.mount('/content/drive')\n",
        "\n",
        "# Define the Kaggle credentials path\n",
        "kaggle_json_path = \"/content/drive/MyDrive/kaggle.json\"\n",
        "\n",
        "# Move kaggle.json to ~/.kaggle/\n",
        "os.makedirs(\"/root/.kaggle\", exist_ok=True)\n",
        "os.system(f\"cp {kaggle_json_path} /root/.kaggle/\")\n",
        "\n",
        "# Change permission\n",
        "os.system(\"chmod 600 /root/.kaggle/kaggle.json\")\n",
        "\n",
        "# Now, you can download datasets using Kaggle API\n",
        "!kaggle datasets download -d aryashah2k/indian-medicinal-leaves-dataset -p \"/content/drive/My Drive/\""
      ]
    },
    {
      "cell_type": "code",
      "source": [],
      "metadata": {
        "id": "_ht-bE8ClPg9"
      },
      "execution_count": null,
      "outputs": []
    }
  ]
}